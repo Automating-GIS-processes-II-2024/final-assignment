{
 "cells": [
  {
   "cell_type": "markdown",
   "id": "33807141-e118-4b5a-ace0-b9e75720b90b",
   "metadata": {},
   "source": [
    "# Final assignment\n",
    "\n",
    "This is an empty notebook for your work. "
   ]
  },
  {
   "cell_type": "code",
   "execution_count": null,
   "id": "ae054b24-2745-4fc0-b57a-b776ac6fe14e",
   "metadata": {},
   "outputs": [],
   "source": []
  }
 ],
 "metadata": {
  "kernelspec": {
   "display_name": "Python 3 (ipykernel)",
   "language": "python",
   "name": "python3"
  },
  "language_info": {
   "codemirror_mode": {
    "name": "ipython",
    "version": 3
   },
   "file_extension": ".py",
   "mimetype": "text/x-python",
   "name": "python",
   "nbconvert_exporter": "python",
   "pygments_lexer": "ipython3",
   "version": "3.11.7"
  }
 },
 "nbformat": 4,
 "nbformat_minor": 5
}
